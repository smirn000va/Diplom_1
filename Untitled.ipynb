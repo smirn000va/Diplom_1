{
 "cells": [
  {
   "cell_type": "code",
   "execution_count": 1,
   "metadata": {},
   "outputs": [],
   "source": [
    "import pandas as pd"
   ]
  },
  {
   "cell_type": "code",
   "execution_count": 2,
   "metadata": {},
   "outputs": [],
   "source": [
    "Data_peop=pd.read_excel('Data.xls')"
   ]
  },
  {
   "cell_type": "code",
   "execution_count": 3,
   "metadata": {},
   "outputs": [
    {
     "data": {
      "text/html": [
       "<div>\n",
       "<style scoped>\n",
       "    .dataframe tbody tr th:only-of-type {\n",
       "        vertical-align: middle;\n",
       "    }\n",
       "\n",
       "    .dataframe tbody tr th {\n",
       "        vertical-align: top;\n",
       "    }\n",
       "\n",
       "    .dataframe thead th {\n",
       "        text-align: right;\n",
       "    }\n",
       "</style>\n",
       "<table border=\"1\" class=\"dataframe\">\n",
       "  <thead>\n",
       "    <tr style=\"text-align: right;\">\n",
       "      <th></th>\n",
       "      <th>Фамилия</th>\n",
       "      <th>Имя</th>\n",
       "      <th>Дата рождения</th>\n",
       "      <th>Место рождения</th>\n",
       "      <th>Телефон</th>\n",
       "      <th>E-mail</th>\n",
       "    </tr>\n",
       "  </thead>\n",
       "  <tbody>\n",
       "    <tr>\n",
       "      <th>0</th>\n",
       "      <td>АБАЕВА</td>\n",
       "      <td>ЛЮСЕНА</td>\n",
       "      <td>1966-10-13</td>\n",
       "      <td>с.Урвань Урванского р-на Кабардино-Балкарской ...</td>\n",
       "      <td>79165107925</td>\n",
       "      <td>alh66@mail.ru</td>\n",
       "    </tr>\n",
       "    <tr>\n",
       "      <th>1</th>\n",
       "      <td>АБАЗОВ</td>\n",
       "      <td>ГАРИЙ</td>\n",
       "      <td>1964-07-07</td>\n",
       "      <td>гор. Телави респ. Грузия</td>\n",
       "      <td>79257443307</td>\n",
       "      <td>nik_abazov@mail.ru</td>\n",
       "    </tr>\n",
       "    <tr>\n",
       "      <th>2</th>\n",
       "      <td>АБАКАЕВА</td>\n",
       "      <td>АЛЕКСАНДРА</td>\n",
       "      <td>NaT</td>\n",
       "      <td>NaN</td>\n",
       "      <td>+7 (912) 133-39-99</td>\n",
       "      <td>s.a311@mail.ru</td>\n",
       "    </tr>\n",
       "    <tr>\n",
       "      <th>3</th>\n",
       "      <td>АБАКАЕВА</td>\n",
       "      <td>АЛЕКСАНДРА</td>\n",
       "      <td>1982-11-03</td>\n",
       "      <td>гор. Бишкек Республики Кыргызстан</td>\n",
       "      <td>79121333999</td>\n",
       "      <td>s.a311@mail.ru</td>\n",
       "    </tr>\n",
       "    <tr>\n",
       "      <th>4</th>\n",
       "      <td>АБАКАРОВА</td>\n",
       "      <td>ЭЛЬМИРА</td>\n",
       "      <td>1987-05-04</td>\n",
       "      <td>NaN</td>\n",
       "      <td>NaN</td>\n",
       "      <td>NaN</td>\n",
       "    </tr>\n",
       "  </tbody>\n",
       "</table>\n",
       "</div>"
      ],
      "text/plain": [
       "     Фамилия         Имя Дата рождения  \\\n",
       "0     АБАЕВА      ЛЮСЕНА    1966-10-13   \n",
       "1     АБАЗОВ       ГАРИЙ    1964-07-07   \n",
       "2   АБАКАЕВА  АЛЕКСАНДРА           NaT   \n",
       "3   АБАКАЕВА  АЛЕКСАНДРА    1982-11-03   \n",
       "4  АБАКАРОВА     ЭЛЬМИРА    1987-05-04   \n",
       "\n",
       "                                      Место рождения             Телефон  \\\n",
       "0  с.Урвань Урванского р-на Кабардино-Балкарской ...         79165107925   \n",
       "1                           гор. Телави респ. Грузия         79257443307   \n",
       "2                                                NaN  +7 (912) 133-39-99   \n",
       "3                  гор. Бишкек Республики Кыргызстан         79121333999   \n",
       "4                                                NaN                 NaN   \n",
       "\n",
       "               E-mail  \n",
       "0       alh66@mail.ru  \n",
       "1  nik_abazov@mail.ru  \n",
       "2      s.a311@mail.ru  \n",
       "3      s.a311@mail.ru  \n",
       "4                 NaN  "
      ]
     },
     "execution_count": 3,
     "metadata": {},
     "output_type": "execute_result"
    }
   ],
   "source": [
    "Data_peop.head()"
   ]
  },
  {
   "cell_type": "code",
   "execution_count": null,
   "metadata": {},
   "outputs": [],
   "source": []
  }
 ],
 "metadata": {
  "kernelspec": {
   "display_name": "Python 3",
   "language": "python",
   "name": "python3"
  },
  "language_info": {
   "codemirror_mode": {
    "name": "ipython",
    "version": 3
   },
   "file_extension": ".py",
   "mimetype": "text/x-python",
   "name": "python",
   "nbconvert_exporter": "python",
   "pygments_lexer": "ipython3",
   "version": "3.8.1"
  }
 },
 "nbformat": 4,
 "nbformat_minor": 4
}
